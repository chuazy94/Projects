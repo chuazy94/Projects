{
 "cells": [
  {
   "cell_type": "code",
   "execution_count": 2,
   "metadata": {},
   "outputs": [],
   "source": [
    "import pandas as pd\n",
    "import os\n",
    "import numpy as np\n",
    "from itertools import permutations,combinations\n",
    "from scipy.stats import poisson\n",
    "import random\n",
    "from itertools import product\n",
    "import numpy as np\n",
    "from functools import cmp_to_key\n",
    "from statsmodels.genmod.generalized_estimating_equations import GEE\n",
    "from statsmodels.genmod.cov_struct import Independence\n",
    "from statsmodels.genmod.families import Poisson"
   ]
  },
  {
   "cell_type": "markdown",
   "metadata": {},
   "source": [
    "# 1. Data loading and cleansing"
   ]
  },
  {
   "cell_type": "markdown",
   "metadata": {},
   "source": [
    "### 1.1 Loading the training datasets"
   ]
  },
  {
   "cell_type": "code",
   "execution_count": 3,
   "metadata": {},
   "outputs": [],
   "source": [
    "lst = []\n",
    "for file in os.listdir(\"raw_data\"):\n",
    "    if file.endswith(\".csv\"):\n",
    "        lst.append(os.path.join(\"raw_data\", file))"
   ]
  },
  {
   "cell_type": "code",
   "execution_count": 4,
   "metadata": {},
   "outputs": [],
   "source": [
    "pd_lst = []"
   ]
  },
  {
   "cell_type": "code",
   "execution_count": 5,
   "metadata": {},
   "outputs": [],
   "source": [
    "for file in lst:\n",
    "    df = pd.read_csv(file, index_col=None, header = 0)\n",
    "    df['Competition'] = file.split(\"\\\\\")[1].split('.')[0]\n",
    "    pd_lst.append(df)"
   ]
  },
  {
   "cell_type": "code",
   "execution_count": 6,
   "metadata": {},
   "outputs": [],
   "source": [
    "complete_df = pd.concat(pd_lst, axis=0,ignore_index=True)"
   ]
  },
  {
   "cell_type": "code",
   "execution_count": 7,
   "metadata": {},
   "outputs": [
    {
     "data": {
      "text/plain": [
       "Index(['timestamp', 'date_GMT', 'status', 'attendance', 'home_team_name',\n",
       "       'away_team_name', 'referee', 'Game Week', 'Pre-Match PPG (Home)',\n",
       "       'Pre-Match PPG (Away)', 'home_ppg', 'away_ppg', 'home_team_goal_count',\n",
       "       'away_team_goal_count', 'total_goal_count', 'total_goals_at_half_time',\n",
       "       'home_team_goal_count_half_time', 'away_team_goal_count_half_time',\n",
       "       'home_team_goal_timings', 'away_team_goal_timings',\n",
       "       'home_team_corner_count', 'away_team_corner_count',\n",
       "       'home_team_yellow_cards', 'home_team_red_cards',\n",
       "       'away_team_yellow_cards', 'away_team_red_cards',\n",
       "       'home_team_first_half_cards', 'home_team_second_half_cards',\n",
       "       'away_team_first_half_cards', 'away_team_second_half_cards',\n",
       "       'home_team_shots', 'away_team_shots', 'home_team_shots_on_target',\n",
       "       'away_team_shots_on_target', 'home_team_shots_off_target',\n",
       "       'away_team_shots_off_target', 'home_team_fouls', 'away_team_fouls',\n",
       "       'home_team_possession', 'away_team_possession', 'team_a_xg',\n",
       "       'team_b_xg', 'average_goals_per_match_pre_match',\n",
       "       'btts_percentage_pre_match', 'over_15_percentage_pre_match',\n",
       "       'over_25_percentage_pre_match', 'over_35_percentage_pre_match',\n",
       "       'over_45_percentage_pre_match', 'over_15_HT_FHG_percentage_pre_match',\n",
       "       'over_05_HT_FHG_percentage_pre_match',\n",
       "       'over_15_2HG_percentage_pre_match', 'over_05_2HG_percentage_pre_match',\n",
       "       'average_corners_per_match_pre_match',\n",
       "       'average_cards_per_match_pre_match', 'odds_ft_home_team_win',\n",
       "       'odds_ft_draw', 'odds_ft_away_team_win', 'odds_ft_over15',\n",
       "       'odds_ft_over25', 'odds_ft_over35', 'odds_ft_over45', 'odds_btts_yes',\n",
       "       'odds_btts_no', 'stadium_name', 'Competition'],\n",
       "      dtype='object')"
      ]
     },
     "execution_count": 7,
     "metadata": {},
     "output_type": "execute_result"
    }
   ],
   "source": [
    "complete_df.columns"
   ]
  },
  {
   "cell_type": "code",
   "execution_count": 8,
   "metadata": {},
   "outputs": [
    {
     "data": {
      "text/plain": [
       "3246"
      ]
     },
     "execution_count": 8,
     "metadata": {},
     "output_type": "execute_result"
    }
   ],
   "source": [
    "len(complete_df)"
   ]
  },
  {
   "cell_type": "code",
   "execution_count": 9,
   "metadata": {},
   "outputs": [
    {
     "data": {
      "text/plain": [
       "home_team_name\n",
       "Afghanistan         8\n",
       "Alajuelense         5\n",
       "Albania            23\n",
       "Algeria            25\n",
       "Alianza             3\n",
       "                   ..\n",
       "Yemen               9\n",
       "Zambia             10\n",
       "Zimbabwe           10\n",
       "Águila              1\n",
       "Étoile du Congo     7\n",
       "Name: home_team_name, Length: 228, dtype: int64"
      ]
     },
     "execution_count": 9,
     "metadata": {},
     "output_type": "execute_result"
    }
   ],
   "source": [
    "complete_df.groupby('home_team_name')['home_team_name'].count()"
   ]
  },
  {
   "cell_type": "markdown",
   "metadata": {},
   "source": [
    "### 1.2 Loading the Elo ratings"
   ]
  },
  {
   "cell_type": "code",
   "execution_count": 10,
   "metadata": {},
   "outputs": [],
   "source": [
    "elo_rankings_df = pd.read_csv('elo_rankings.csv')"
   ]
  },
  {
   "cell_type": "code",
   "execution_count": 11,
   "metadata": {},
   "outputs": [],
   "source": [
    "required_headers = ['timestamp', 'date_GMT','home_team_name','away_team_name'\n",
    "                    ,'home_team_goal_count','away_team_goal_count','team_a_xg'\n",
    "                    ,'team_b_xg','elo_ranking_x','elo_ranking_y']"
   ]
  },
  {
   "cell_type": "code",
   "execution_count": 12,
   "metadata": {},
   "outputs": [],
   "source": [
    "home_elo = complete_df.merge(elo_rankings_df, left_on='home_team_name', right_on='Team')\n",
    "total_elo = home_elo.merge(elo_rankings_df, left_on='away_team_name', right_on='Team')"
   ]
  },
  {
   "cell_type": "code",
   "execution_count": 13,
   "metadata": {},
   "outputs": [],
   "source": [
    "elo_df = total_elo[required_headers].rename(columns={\"elo_ranking_x\":\"elo_ranking_home\",\"elo_ranking_y\":\"elo_ranking_away\"})"
   ]
  },
  {
   "cell_type": "code",
   "execution_count": 15,
   "metadata": {},
   "outputs": [
    {
     "data": {
      "text/html": [
       "<div>\n",
       "<style scoped>\n",
       "    .dataframe tbody tr th:only-of-type {\n",
       "        vertical-align: middle;\n",
       "    }\n",
       "\n",
       "    .dataframe tbody tr th {\n",
       "        vertical-align: top;\n",
       "    }\n",
       "\n",
       "    .dataframe thead th {\n",
       "        text-align: right;\n",
       "    }\n",
       "</style>\n",
       "<table border=\"1\" class=\"dataframe\">\n",
       "  <thead>\n",
       "    <tr style=\"text-align: right;\">\n",
       "      <th></th>\n",
       "      <th>timestamp</th>\n",
       "      <th>date_GMT</th>\n",
       "      <th>home_team_name</th>\n",
       "      <th>away_team_name</th>\n",
       "      <th>home_team_goal_count</th>\n",
       "      <th>away_team_goal_count</th>\n",
       "      <th>team_a_xg</th>\n",
       "      <th>team_b_xg</th>\n",
       "      <th>elo_ranking_home</th>\n",
       "      <th>elo_ranking_away</th>\n",
       "    </tr>\n",
       "  </thead>\n",
       "  <tbody>\n",
       "    <tr>\n",
       "      <th>769</th>\n",
       "      <td>1444334400</td>\n",
       "      <td>Oct 08 2015 - 8:00pm</td>\n",
       "      <td>Bolivia</td>\n",
       "      <td>Uruguay</td>\n",
       "      <td>0</td>\n",
       "      <td>2</td>\n",
       "      <td>0.0</td>\n",
       "      <td>0.0</td>\n",
       "      <td>1621</td>\n",
       "      <td>1936</td>\n",
       "    </tr>\n",
       "    <tr>\n",
       "      <th>183</th>\n",
       "      <td>1444336200</td>\n",
       "      <td>Oct 08 2015 - 8:30pm</td>\n",
       "      <td>Colombia</td>\n",
       "      <td>Peru</td>\n",
       "      <td>2</td>\n",
       "      <td>0</td>\n",
       "      <td>0.0</td>\n",
       "      <td>0.0</td>\n",
       "      <td>1911</td>\n",
       "      <td>1843</td>\n",
       "    </tr>\n",
       "    <tr>\n",
       "      <th>643</th>\n",
       "      <td>1444338000</td>\n",
       "      <td>Oct 08 2015 - 9:00pm</td>\n",
       "      <td>Venezuela</td>\n",
       "      <td>Paraguay</td>\n",
       "      <td>0</td>\n",
       "      <td>1</td>\n",
       "      <td>0.0</td>\n",
       "      <td>0.0</td>\n",
       "      <td>1682</td>\n",
       "      <td>1739</td>\n",
       "    </tr>\n",
       "    <tr>\n",
       "      <th>581</th>\n",
       "      <td>1444347000</td>\n",
       "      <td>Oct 08 2015 - 11:30pm</td>\n",
       "      <td>Chile</td>\n",
       "      <td>Brazil</td>\n",
       "      <td>2</td>\n",
       "      <td>0</td>\n",
       "      <td>0.0</td>\n",
       "      <td>0.0</td>\n",
       "      <td>1703</td>\n",
       "      <td>2169</td>\n",
       "    </tr>\n",
       "    <tr>\n",
       "      <th>847</th>\n",
       "      <td>1444348800</td>\n",
       "      <td>Oct 09 2015 - 12:00am</td>\n",
       "      <td>Argentina</td>\n",
       "      <td>Ecuador</td>\n",
       "      <td>0</td>\n",
       "      <td>2</td>\n",
       "      <td>0.0</td>\n",
       "      <td>0.0</td>\n",
       "      <td>2141</td>\n",
       "      <td>1840</td>\n",
       "    </tr>\n",
       "    <tr>\n",
       "      <th>...</th>\n",
       "      <td>...</td>\n",
       "      <td>...</td>\n",
       "      <td>...</td>\n",
       "      <td>...</td>\n",
       "      <td>...</td>\n",
       "      <td>...</td>\n",
       "      <td>...</td>\n",
       "      <td>...</td>\n",
       "      <td>...</td>\n",
       "      <td>...</td>\n",
       "    </tr>\n",
       "    <tr>\n",
       "      <th>2491</th>\n",
       "      <td>1668973500</td>\n",
       "      <td>Nov 20 2022 - 7:45pm</td>\n",
       "      <td>Austria</td>\n",
       "      <td>Italy</td>\n",
       "      <td>0</td>\n",
       "      <td>0</td>\n",
       "      <td>0.0</td>\n",
       "      <td>0.0</td>\n",
       "      <td>1729</td>\n",
       "      <td>1993</td>\n",
       "    </tr>\n",
       "    <tr>\n",
       "      <th>1239</th>\n",
       "      <td>1710975600</td>\n",
       "      <td>Mar 20 2024 - 11:00pm</td>\n",
       "      <td>Lithuania</td>\n",
       "      <td>Belarus</td>\n",
       "      <td>0</td>\n",
       "      <td>0</td>\n",
       "      <td>0.0</td>\n",
       "      <td>0.0</td>\n",
       "      <td>1248</td>\n",
       "      <td>1415</td>\n",
       "    </tr>\n",
       "    <tr>\n",
       "      <th>2216</th>\n",
       "      <td>1710975600</td>\n",
       "      <td>Mar 20 2024 - 11:00pm</td>\n",
       "      <td>Gibraltar</td>\n",
       "      <td>Cyprus</td>\n",
       "      <td>0</td>\n",
       "      <td>0</td>\n",
       "      <td>0.0</td>\n",
       "      <td>0.0</td>\n",
       "      <td>1053</td>\n",
       "      <td>1350</td>\n",
       "    </tr>\n",
       "    <tr>\n",
       "      <th>2631</th>\n",
       "      <td>1711234800</td>\n",
       "      <td>Mar 23 2024 - 11:00pm</td>\n",
       "      <td>Cyprus</td>\n",
       "      <td>Gibraltar</td>\n",
       "      <td>0</td>\n",
       "      <td>0</td>\n",
       "      <td>0.0</td>\n",
       "      <td>0.0</td>\n",
       "      <td>1350</td>\n",
       "      <td>1053</td>\n",
       "    </tr>\n",
       "    <tr>\n",
       "      <th>2169</th>\n",
       "      <td>1711234800</td>\n",
       "      <td>Mar 23 2024 - 11:00pm</td>\n",
       "      <td>Belarus</td>\n",
       "      <td>Lithuania</td>\n",
       "      <td>0</td>\n",
       "      <td>0</td>\n",
       "      <td>0.0</td>\n",
       "      <td>0.0</td>\n",
       "      <td>1415</td>\n",
       "      <td>1248</td>\n",
       "    </tr>\n",
       "  </tbody>\n",
       "</table>\n",
       "<p>2770 rows × 10 columns</p>\n",
       "</div>"
      ],
      "text/plain": [
       "       timestamp               date_GMT home_team_name away_team_name  \\\n",
       "769   1444334400   Oct 08 2015 - 8:00pm        Bolivia        Uruguay   \n",
       "183   1444336200   Oct 08 2015 - 8:30pm       Colombia           Peru   \n",
       "643   1444338000   Oct 08 2015 - 9:00pm      Venezuela       Paraguay   \n",
       "581   1444347000  Oct 08 2015 - 11:30pm          Chile         Brazil   \n",
       "847   1444348800  Oct 09 2015 - 12:00am      Argentina        Ecuador   \n",
       "...          ...                    ...            ...            ...   \n",
       "2491  1668973500   Nov 20 2022 - 7:45pm        Austria          Italy   \n",
       "1239  1710975600  Mar 20 2024 - 11:00pm      Lithuania        Belarus   \n",
       "2216  1710975600  Mar 20 2024 - 11:00pm      Gibraltar         Cyprus   \n",
       "2631  1711234800  Mar 23 2024 - 11:00pm         Cyprus      Gibraltar   \n",
       "2169  1711234800  Mar 23 2024 - 11:00pm        Belarus      Lithuania   \n",
       "\n",
       "      home_team_goal_count  away_team_goal_count  team_a_xg  team_b_xg  \\\n",
       "769                      0                     2        0.0        0.0   \n",
       "183                      2                     0        0.0        0.0   \n",
       "643                      0                     1        0.0        0.0   \n",
       "581                      2                     0        0.0        0.0   \n",
       "847                      0                     2        0.0        0.0   \n",
       "...                    ...                   ...        ...        ...   \n",
       "2491                     0                     0        0.0        0.0   \n",
       "1239                     0                     0        0.0        0.0   \n",
       "2216                     0                     0        0.0        0.0   \n",
       "2631                     0                     0        0.0        0.0   \n",
       "2169                     0                     0        0.0        0.0   \n",
       "\n",
       "      elo_ranking_home  elo_ranking_away  \n",
       "769               1621              1936  \n",
       "183               1911              1843  \n",
       "643               1682              1739  \n",
       "581               1703              2169  \n",
       "847               2141              1840  \n",
       "...                ...               ...  \n",
       "2491              1729              1993  \n",
       "1239              1248              1415  \n",
       "2216              1053              1350  \n",
       "2631              1350              1053  \n",
       "2169              1415              1248  \n",
       "\n",
       "[2770 rows x 10 columns]"
      ]
     },
     "execution_count": 15,
     "metadata": {},
     "output_type": "execute_result"
    }
   ],
   "source": [
    "elo_df.sort_values(by=['timestamp'])"
   ]
  },
  {
   "cell_type": "code",
   "execution_count": 18,
   "metadata": {},
   "outputs": [
    {
     "data": {
      "text/plain": [
       "1681"
      ]
     },
     "execution_count": 18,
     "metadata": {},
     "output_type": "execute_result"
    }
   ],
   "source": [
    "elo_df.query('team_a_xg < home_team_goal_count | team_b_xg < away_team_goal_count')['home_team_goal_count'].count()"
   ]
  },
  {
   "cell_type": "code",
   "execution_count": 19,
   "metadata": {},
   "outputs": [
    {
     "data": {
      "text/html": [
       "<div>\n",
       "<style scoped>\n",
       "    .dataframe tbody tr th:only-of-type {\n",
       "        vertical-align: middle;\n",
       "    }\n",
       "\n",
       "    .dataframe tbody tr th {\n",
       "        vertical-align: top;\n",
       "    }\n",
       "\n",
       "    .dataframe thead th {\n",
       "        text-align: right;\n",
       "    }\n",
       "</style>\n",
       "<table border=\"1\" class=\"dataframe\">\n",
       "  <thead>\n",
       "    <tr style=\"text-align: right;\">\n",
       "      <th></th>\n",
       "      <th>timestamp</th>\n",
       "      <th>date_GMT</th>\n",
       "      <th>home_team_name</th>\n",
       "      <th>away_team_name</th>\n",
       "      <th>home_team_goal_count</th>\n",
       "      <th>away_team_goal_count</th>\n",
       "      <th>team_a_xg</th>\n",
       "      <th>team_b_xg</th>\n",
       "      <th>elo_ranking_home</th>\n",
       "      <th>elo_ranking_away</th>\n",
       "    </tr>\n",
       "  </thead>\n",
       "  <tbody>\n",
       "    <tr>\n",
       "      <th>0</th>\n",
       "      <td>1546772400</td>\n",
       "      <td>Jan 06 2019 - 11:00am</td>\n",
       "      <td>Australia</td>\n",
       "      <td>Jordan</td>\n",
       "      <td>0</td>\n",
       "      <td>1</td>\n",
       "      <td>2.33</td>\n",
       "      <td>1.32</td>\n",
       "      <td>1719</td>\n",
       "      <td>1593</td>\n",
       "    </tr>\n",
       "    <tr>\n",
       "      <th>1</th>\n",
       "      <td>1654106400</td>\n",
       "      <td>Jun 01 2022 - 6:00pm</td>\n",
       "      <td>Australia</td>\n",
       "      <td>Jordan</td>\n",
       "      <td>2</td>\n",
       "      <td>1</td>\n",
       "      <td>1.63</td>\n",
       "      <td>1.11</td>\n",
       "      <td>1719</td>\n",
       "      <td>1593</td>\n",
       "    </tr>\n",
       "    <tr>\n",
       "      <th>2</th>\n",
       "      <td>1623772800</td>\n",
       "      <td>Jun 15 2021 - 4:00pm</td>\n",
       "      <td>Australia</td>\n",
       "      <td>Jordan</td>\n",
       "      <td>1</td>\n",
       "      <td>0</td>\n",
       "      <td>1.19</td>\n",
       "      <td>0.86</td>\n",
       "      <td>1719</td>\n",
       "      <td>1593</td>\n",
       "    </tr>\n",
       "    <tr>\n",
       "      <th>3</th>\n",
       "      <td>1553612400</td>\n",
       "      <td>Mar 26 2019 - 3:00pm</td>\n",
       "      <td>Iraq</td>\n",
       "      <td>Jordan</td>\n",
       "      <td>3</td>\n",
       "      <td>2</td>\n",
       "      <td>0.00</td>\n",
       "      <td>0.00</td>\n",
       "      <td>1574</td>\n",
       "      <td>1593</td>\n",
       "    </tr>\n",
       "    <tr>\n",
       "      <th>4</th>\n",
       "      <td>1613394000</td>\n",
       "      <td>Feb 15 2021 - 1:00pm</td>\n",
       "      <td>Uzbekistan</td>\n",
       "      <td>Jordan</td>\n",
       "      <td>2</td>\n",
       "      <td>0</td>\n",
       "      <td>0.00</td>\n",
       "      <td>0.00</td>\n",
       "      <td>1567</td>\n",
       "      <td>1593</td>\n",
       "    </tr>\n",
       "  </tbody>\n",
       "</table>\n",
       "</div>"
      ],
      "text/plain": [
       "    timestamp               date_GMT home_team_name away_team_name  \\\n",
       "0  1546772400  Jan 06 2019 - 11:00am      Australia         Jordan   \n",
       "1  1654106400   Jun 01 2022 - 6:00pm      Australia         Jordan   \n",
       "2  1623772800   Jun 15 2021 - 4:00pm      Australia         Jordan   \n",
       "3  1553612400   Mar 26 2019 - 3:00pm           Iraq         Jordan   \n",
       "4  1613394000   Feb 15 2021 - 1:00pm     Uzbekistan         Jordan   \n",
       "\n",
       "   home_team_goal_count  away_team_goal_count  team_a_xg  team_b_xg  \\\n",
       "0                     0                     1       2.33       1.32   \n",
       "1                     2                     1       1.63       1.11   \n",
       "2                     1                     0       1.19       0.86   \n",
       "3                     3                     2       0.00       0.00   \n",
       "4                     2                     0       0.00       0.00   \n",
       "\n",
       "   elo_ranking_home  elo_ranking_away  \n",
       "0              1719              1593  \n",
       "1              1719              1593  \n",
       "2              1719              1593  \n",
       "3              1574              1593  \n",
       "4              1567              1593  "
      ]
     },
     "execution_count": 19,
     "metadata": {},
     "output_type": "execute_result"
    }
   ],
   "source": [
    "elo_df.head()"
   ]
  },
  {
   "cell_type": "code",
   "execution_count": 22,
   "metadata": {},
   "outputs": [],
   "source": [
    "elo_filtered_df = elo_df[elo_df['team_b_xg'] != 0].sort_values(by=['timestamp'])"
   ]
  },
  {
   "cell_type": "code",
   "execution_count": 23,
   "metadata": {},
   "outputs": [
    {
     "data": {
      "text/html": [
       "<div>\n",
       "<style scoped>\n",
       "    .dataframe tbody tr th:only-of-type {\n",
       "        vertical-align: middle;\n",
       "    }\n",
       "\n",
       "    .dataframe tbody tr th {\n",
       "        vertical-align: top;\n",
       "    }\n",
       "\n",
       "    .dataframe thead th {\n",
       "        text-align: right;\n",
       "    }\n",
       "</style>\n",
       "<table border=\"1\" class=\"dataframe\">\n",
       "  <thead>\n",
       "    <tr style=\"text-align: right;\">\n",
       "      <th></th>\n",
       "      <th>timestamp</th>\n",
       "      <th>date_GMT</th>\n",
       "      <th>home_team_name</th>\n",
       "      <th>away_team_name</th>\n",
       "      <th>home_team_goal_count</th>\n",
       "      <th>away_team_goal_count</th>\n",
       "      <th>team_a_xg</th>\n",
       "      <th>team_b_xg</th>\n",
       "      <th>elo_ranking_home</th>\n",
       "      <th>elo_ranking_away</th>\n",
       "    </tr>\n",
       "  </thead>\n",
       "  <tbody>\n",
       "    <tr>\n",
       "      <th>246</th>\n",
       "      <td>1504602900</td>\n",
       "      <td>Sep 05 2017 - 9:15am</td>\n",
       "      <td>Nepal</td>\n",
       "      <td>Tajikistan</td>\n",
       "      <td>1</td>\n",
       "      <td>2</td>\n",
       "      <td>0.29</td>\n",
       "      <td>0.01</td>\n",
       "      <td>927</td>\n",
       "      <td>1318</td>\n",
       "    </tr>\n",
       "    <tr>\n",
       "      <th>157</th>\n",
       "      <td>1504611000</td>\n",
       "      <td>Sep 05 2017 - 11:30am</td>\n",
       "      <td>Cambodia</td>\n",
       "      <td>Vietnam</td>\n",
       "      <td>1</td>\n",
       "      <td>2</td>\n",
       "      <td>0.85</td>\n",
       "      <td>1.18</td>\n",
       "      <td>847</td>\n",
       "      <td>1391</td>\n",
       "    </tr>\n",
       "    <tr>\n",
       "      <th>276</th>\n",
       "      <td>1504611000</td>\n",
       "      <td>Sep 05 2017 - 11:30am</td>\n",
       "      <td>Singapore</td>\n",
       "      <td>Turkmenistan</td>\n",
       "      <td>1</td>\n",
       "      <td>1</td>\n",
       "      <td>1.47</td>\n",
       "      <td>2.30</td>\n",
       "      <td>1122</td>\n",
       "      <td>1250</td>\n",
       "    </tr>\n",
       "    <tr>\n",
       "      <th>727</th>\n",
       "      <td>1504611000</td>\n",
       "      <td>Sep 05 2017 - 11:30am</td>\n",
       "      <td>Philippines</td>\n",
       "      <td>Yemen</td>\n",
       "      <td>2</td>\n",
       "      <td>2</td>\n",
       "      <td>2.02</td>\n",
       "      <td>1.42</td>\n",
       "      <td>1095</td>\n",
       "      <td>1099</td>\n",
       "    </tr>\n",
       "    <tr>\n",
       "      <th>789</th>\n",
       "      <td>1504615500</td>\n",
       "      <td>Sep 05 2017 - 12:45pm</td>\n",
       "      <td>Malaysia</td>\n",
       "      <td>Hong Kong</td>\n",
       "      <td>1</td>\n",
       "      <td>1</td>\n",
       "      <td>1.33</td>\n",
       "      <td>1.95</td>\n",
       "      <td>1206</td>\n",
       "      <td>1139</td>\n",
       "    </tr>\n",
       "  </tbody>\n",
       "</table>\n",
       "</div>"
      ],
      "text/plain": [
       "      timestamp               date_GMT home_team_name away_team_name  \\\n",
       "246  1504602900   Sep 05 2017 - 9:15am          Nepal     Tajikistan   \n",
       "157  1504611000  Sep 05 2017 - 11:30am       Cambodia        Vietnam   \n",
       "276  1504611000  Sep 05 2017 - 11:30am      Singapore   Turkmenistan   \n",
       "727  1504611000  Sep 05 2017 - 11:30am    Philippines          Yemen   \n",
       "789  1504615500  Sep 05 2017 - 12:45pm       Malaysia      Hong Kong   \n",
       "\n",
       "     home_team_goal_count  away_team_goal_count  team_a_xg  team_b_xg  \\\n",
       "246                     1                     2       0.29       0.01   \n",
       "157                     1                     2       0.85       1.18   \n",
       "276                     1                     1       1.47       2.30   \n",
       "727                     2                     2       2.02       1.42   \n",
       "789                     1                     1       1.33       1.95   \n",
       "\n",
       "     elo_ranking_home  elo_ranking_away  \n",
       "246               927              1318  \n",
       "157               847              1391  \n",
       "276              1122              1250  \n",
       "727              1095              1099  \n",
       "789              1206              1139  "
      ]
     },
     "execution_count": 23,
     "metadata": {},
     "output_type": "execute_result"
    }
   ],
   "source": [
    "elo_filtered_df.head()"
   ]
  },
  {
   "cell_type": "markdown",
   "metadata": {},
   "source": [
    "### 1.3 Building the training dataset "
   ]
  },
  {
   "cell_type": "code",
   "execution_count": 24,
   "metadata": {},
   "outputs": [
    {
     "data": {
      "text/html": [
       "<div>\n",
       "<style scoped>\n",
       "    .dataframe tbody tr th:only-of-type {\n",
       "        vertical-align: middle;\n",
       "    }\n",
       "\n",
       "    .dataframe tbody tr th {\n",
       "        vertical-align: top;\n",
       "    }\n",
       "\n",
       "    .dataframe thead th {\n",
       "        text-align: right;\n",
       "    }\n",
       "</style>\n",
       "<table border=\"1\" class=\"dataframe\">\n",
       "  <thead>\n",
       "    <tr style=\"text-align: right;\">\n",
       "      <th></th>\n",
       "      <th>team1</th>\n",
       "      <th>team2</th>\n",
       "      <th>elo1</th>\n",
       "      <th>elo2</th>\n",
       "      <th>xg1</th>\n",
       "    </tr>\n",
       "  </thead>\n",
       "  <tbody>\n",
       "    <tr>\n",
       "      <th>246</th>\n",
       "      <td>Nepal</td>\n",
       "      <td>Tajikistan</td>\n",
       "      <td>927</td>\n",
       "      <td>1318</td>\n",
       "      <td>0.29</td>\n",
       "    </tr>\n",
       "    <tr>\n",
       "      <th>157</th>\n",
       "      <td>Cambodia</td>\n",
       "      <td>Vietnam</td>\n",
       "      <td>847</td>\n",
       "      <td>1391</td>\n",
       "      <td>0.85</td>\n",
       "    </tr>\n",
       "    <tr>\n",
       "      <th>276</th>\n",
       "      <td>Singapore</td>\n",
       "      <td>Turkmenistan</td>\n",
       "      <td>1122</td>\n",
       "      <td>1250</td>\n",
       "      <td>1.47</td>\n",
       "    </tr>\n",
       "    <tr>\n",
       "      <th>727</th>\n",
       "      <td>Philippines</td>\n",
       "      <td>Yemen</td>\n",
       "      <td>1095</td>\n",
       "      <td>1099</td>\n",
       "      <td>2.02</td>\n",
       "    </tr>\n",
       "    <tr>\n",
       "      <th>789</th>\n",
       "      <td>Malaysia</td>\n",
       "      <td>Hong Kong</td>\n",
       "      <td>1206</td>\n",
       "      <td>1139</td>\n",
       "      <td>1.33</td>\n",
       "    </tr>\n",
       "  </tbody>\n",
       "</table>\n",
       "</div>"
      ],
      "text/plain": [
       "           team1         team2  elo1  elo2   xg1\n",
       "246        Nepal    Tajikistan   927  1318  0.29\n",
       "157     Cambodia       Vietnam   847  1391  0.85\n",
       "276    Singapore  Turkmenistan  1122  1250  1.47\n",
       "727  Philippines         Yemen  1095  1099  2.02\n",
       "789     Malaysia     Hong Kong  1206  1139  1.33"
      ]
     },
     "execution_count": 24,
     "metadata": {},
     "output_type": "execute_result"
    }
   ],
   "source": [
    "xg_reversed = elo_filtered_df[['away_team_name','home_team_name','elo_ranking_away','elo_ranking_home','team_b_xg']]\n",
    "xg_reversed.columns = ['team1','team2','elo1', 'elo2', 'xg1']\n",
    "\n",
    "xg_forward = elo_filtered_df[['home_team_name','away_team_name','elo_ranking_home','elo_ranking_away','team_a_xg']].rename(\n",
    "    columns={\"home_team_name\":\"team1\",\"away_team_name\":\"team2\"\n",
    "             ,\"elo_ranking_home\":\"elo1\",\"elo_ranking_away\":\"elo2\",\"team_a_xg\":\"xg1\"})\n",
    "\n",
    "xg_full = xg_forward.append(xg_reversed)\n",
    "#elo_goals.columns = ['elo_team', 'elo_opponent', 'goals_team']\n",
    "\n",
    "xg_full.head()"
   ]
  },
  {
   "cell_type": "code",
   "execution_count": 27,
   "metadata": {},
   "outputs": [
    {
     "data": {
      "text/html": [
       "<div>\n",
       "<style scoped>\n",
       "    .dataframe tbody tr th:only-of-type {\n",
       "        vertical-align: middle;\n",
       "    }\n",
       "\n",
       "    .dataframe tbody tr th {\n",
       "        vertical-align: top;\n",
       "    }\n",
       "\n",
       "    .dataframe thead th {\n",
       "        text-align: right;\n",
       "    }\n",
       "</style>\n",
       "<table border=\"1\" class=\"dataframe\">\n",
       "  <thead>\n",
       "    <tr style=\"text-align: right;\">\n",
       "      <th></th>\n",
       "      <th>team1</th>\n",
       "      <th>team2</th>\n",
       "      <th>elo1</th>\n",
       "      <th>elo2</th>\n",
       "      <th>xg1</th>\n",
       "    </tr>\n",
       "  </thead>\n",
       "  <tbody>\n",
       "    <tr>\n",
       "      <th>1137</th>\n",
       "      <td>Brazil</td>\n",
       "      <td>Panama</td>\n",
       "      <td>2169</td>\n",
       "      <td>1656</td>\n",
       "      <td>2.39</td>\n",
       "    </tr>\n",
       "    <tr>\n",
       "      <th>463</th>\n",
       "      <td>Brazil</td>\n",
       "      <td>Qatar</td>\n",
       "      <td>2169</td>\n",
       "      <td>1659</td>\n",
       "      <td>2.32</td>\n",
       "    </tr>\n",
       "    <tr>\n",
       "      <th>1000</th>\n",
       "      <td>Brazil</td>\n",
       "      <td>Honduras</td>\n",
       "      <td>2169</td>\n",
       "      <td>1472</td>\n",
       "      <td>3.17</td>\n",
       "    </tr>\n",
       "    <tr>\n",
       "      <th>505</th>\n",
       "      <td>Brazil</td>\n",
       "      <td>Colombia</td>\n",
       "      <td>2169</td>\n",
       "      <td>1911</td>\n",
       "      <td>1.27</td>\n",
       "    </tr>\n",
       "    <tr>\n",
       "      <th>177</th>\n",
       "      <td>Brazil</td>\n",
       "      <td>Peru</td>\n",
       "      <td>2169</td>\n",
       "      <td>1843</td>\n",
       "      <td>1.39</td>\n",
       "    </tr>\n",
       "    <tr>\n",
       "      <th>...</th>\n",
       "      <td>...</td>\n",
       "      <td>...</td>\n",
       "      <td>...</td>\n",
       "      <td>...</td>\n",
       "      <td>...</td>\n",
       "    </tr>\n",
       "    <tr>\n",
       "      <th>602</th>\n",
       "      <td>Chile</td>\n",
       "      <td>Brazil</td>\n",
       "      <td>1703</td>\n",
       "      <td>2169</td>\n",
       "      <td>1.20</td>\n",
       "    </tr>\n",
       "    <tr>\n",
       "      <th>572</th>\n",
       "      <td>Brazil</td>\n",
       "      <td>South Korea</td>\n",
       "      <td>2169</td>\n",
       "      <td>1783</td>\n",
       "      <td>2.46</td>\n",
       "    </tr>\n",
       "    <tr>\n",
       "      <th>573</th>\n",
       "      <td>Brazil</td>\n",
       "      <td>Japan</td>\n",
       "      <td>2169</td>\n",
       "      <td>1798</td>\n",
       "      <td>2.27</td>\n",
       "    </tr>\n",
       "    <tr>\n",
       "      <th>1796</th>\n",
       "      <td>Ghana</td>\n",
       "      <td>Brazil</td>\n",
       "      <td>1540</td>\n",
       "      <td>2169</td>\n",
       "      <td>0.88</td>\n",
       "    </tr>\n",
       "    <tr>\n",
       "      <th>1739</th>\n",
       "      <td>Tunisia</td>\n",
       "      <td>Brazil</td>\n",
       "      <td>1687</td>\n",
       "      <td>2169</td>\n",
       "      <td>1.03</td>\n",
       "    </tr>\n",
       "  </tbody>\n",
       "</table>\n",
       "<p>72 rows × 5 columns</p>\n",
       "</div>"
      ],
      "text/plain": [
       "        team1        team2  elo1  elo2   xg1\n",
       "1137   Brazil       Panama  2169  1656  2.39\n",
       "463    Brazil        Qatar  2169  1659  2.32\n",
       "1000   Brazil     Honduras  2169  1472  3.17\n",
       "505    Brazil     Colombia  2169  1911  1.27\n",
       "177    Brazil         Peru  2169  1843  1.39\n",
       "...       ...          ...   ...   ...   ...\n",
       "602     Chile       Brazil  1703  2169  1.20\n",
       "572    Brazil  South Korea  2169  1783  2.46\n",
       "573    Brazil        Japan  2169  1798  2.27\n",
       "1796    Ghana       Brazil  1540  2169  0.88\n",
       "1739  Tunisia       Brazil  1687  2169  1.03\n",
       "\n",
       "[72 rows x 5 columns]"
      ]
     },
     "execution_count": 27,
     "metadata": {},
     "output_type": "execute_result"
    }
   ],
   "source": [
    "xg_full.query(\"team1=='Brazil'|team2=='Brazil'\")"
   ]
  },
  {
   "cell_type": "markdown",
   "metadata": {},
   "source": [
    "# 2. Running the GEE model"
   ]
  },
  {
   "cell_type": "code",
   "execution_count": 28,
   "metadata": {},
   "outputs": [
    {
     "name": "stdout",
     "output_type": "stream",
     "text": [
      "                               GEE Regression Results                              \n",
      "===================================================================================\n",
      "Dep. Variable:                         xg1   No. Observations:                 4302\n",
      "Model:                                 GEE   No. clusters:                     2151\n",
      "Method:                        Generalized   Min. cluster size:                   2\n",
      "                      Estimating Equations   Max. cluster size:                   2\n",
      "Family:                            Poisson   Mean cluster size:                 2.0\n",
      "Dependence structure:         Independence   Num. iterations:                     7\n",
      "Date:                     Mon, 21 Nov 2022   Scale:                           1.000\n",
      "Covariance type:                    robust   Time:                         22:16:23\n",
      "==============================================================================\n",
      "                 coef    std err          z      P>|z|      [0.025      0.975]\n",
      "------------------------------------------------------------------------------\n",
      "Intercept      0.2153      0.035      6.132      0.000       0.146       0.284\n",
      "elo1           0.0011   2.13e-05     49.881      0.000       0.001       0.001\n",
      "elo2          -0.0010   1.98e-05    -50.872      0.000      -0.001      -0.001\n",
      "==============================================================================\n",
      "Skew:                          0.4592   Kurtosis:                       1.1347\n",
      "Centered skew:                 0.0000   Centered kurtosis:              0.1979\n",
      "==============================================================================\n"
     ]
    }
   ],
   "source": [
    "poisson_regression = GEE.from_formula(\"xg1 ~ elo1 + elo2\", data=xg_full, \n",
    "                                      groups=list(range(0, elo_filtered_df.shape[0]))*2, # Two examples from a match form \n",
    "                                                                                          # a group in Poisson regression\n",
    "                                                                                          # (not used in this project)\n",
    "                                      cov_struct=Independence(), family=Poisson())\n",
    "goals_predictor = poisson_regression.fit()\n",
    "print(goals_predictor.summary())"
   ]
  },
  {
   "cell_type": "code",
   "execution_count": 30,
   "metadata": {},
   "outputs": [
    {
     "data": {
      "text/plain": [
       "0    1.123886\n",
       "dtype: float64"
      ]
     },
     "execution_count": 30,
     "metadata": {},
     "output_type": "execute_result"
    }
   ],
   "source": [
    "goals_predictor.predict(pd.DataFrame([{'elo1':1000,'elo2':1150}]))"
   ]
  },
  {
   "cell_type": "code",
   "execution_count": 31,
   "metadata": {},
   "outputs": [
    {
     "data": {
      "text/plain": [
       "0    1.533059\n",
       "dtype: float64"
      ]
     },
     "execution_count": 31,
     "metadata": {},
     "output_type": "execute_result"
    }
   ],
   "source": [
    "goals_predictor.predict(pd.DataFrame([{'elo1':1150,'elo2':1000}]))"
   ]
  },
  {
   "cell_type": "code",
   "execution_count": 32,
   "metadata": {},
   "outputs": [
    {
     "name": "stdout",
     "output_type": "stream",
     "text": [
      "1.6403771557201432 1.1278225867139373\n"
     ]
    }
   ],
   "source": [
    "xg_A = goals_predictor.predict(pd.DataFrame([{'elo1':1840,'elo2':1659}]))[0]\n",
    "xg_B = goals_predictor.predict(pd.DataFrame([{'elo1':1659,'elo2':1840}]))[0]\n",
    "\n",
    "print(xg_A, xg_B)"
   ]
  },
  {
   "cell_type": "code",
   "execution_count": 33,
   "metadata": {},
   "outputs": [
    {
     "name": "stdout",
     "output_type": "stream",
     "text": [
      "0.4242128513326225 4.680807673119139\n"
     ]
    }
   ],
   "source": [
    "xg_C = goals_predictor.predict(pd.DataFrame([{'elo1':1840,'elo2':3000}]))[0]\n",
    "xg_D = goals_predictor.predict(pd.DataFrame([{'elo1':3000,'elo2':1840}]))[0]\n",
    "\n",
    "print(xg_C, xg_D)"
   ]
  },
  {
   "cell_type": "markdown",
   "metadata": {},
   "source": [
    "# 3.Simulating group stage"
   ]
  },
  {
   "cell_type": "markdown",
   "metadata": {},
   "source": [
    "## 3.1 Building the functions to simulate the games\n",
    "\n",
    "- simulate_xg: runs the goal predictor to predict an xG value for a team\n",
    "- poisson_matrix_outcome: Builds the goals matrix to determine the wins, draw and losing probabilities\n",
    "- simulate_match: runs simulate_xg on both teams and the probability mass functions to determine the expected goals and return the probabilities"
   ]
  },
  {
   "cell_type": "code",
   "execution_count": 39,
   "metadata": {},
   "outputs": [],
   "source": [
    "## Function to simulate the games\n",
    "\n",
    "def simulate_xg(elo1, elo2):\n",
    "    xg_lambda = goals_predictor.predict(pd.DataFrame([{'elo1': elo1, 'elo2': elo2}]))\n",
    "    return xg_lambda\n",
    "\n",
    "def simulate_match(elo_home, elo_away,max_goals):\n",
    "    goals_range = range(0,max_goals)\n",
    "    home_poisson_pmf = poisson.pmf(k=goals_range, mu=simulate_xg(elo_home,elo_away))\n",
    "    away_poisson_pmf = poisson.pmf(k=goals_range, mu=simulate_xg(elo_away,elo_home))\n",
    "    prod_table = np.array([(i*j) for i, j in product(home_poisson_pmf, away_poisson_pmf)])\n",
    "    prod_table.shape = (max_goals, max_goals)\n",
    "    home_win_prob, draw_prob, home_lose_prob, home_expected_goals, away_expected_goals = poisson_matrix_outcome(prod_table)\n",
    "    return home_win_prob, draw_prob, home_lose_prob, home_expected_goals, away_expected_goals\n",
    "\n",
    "def poisson_matrix_outcome(prod_table):\n",
    "    win_prob = 0\n",
    "    draw_prob = 0\n",
    "    lose_prob = 0\n",
    "    for i in range(0,len(prod_table)):\n",
    "        for j in range(0,len(prod_table[i])):\n",
    "            if i > j:\n",
    "                win_prob += prod_table[i][j]\n",
    "            if i == j:\n",
    "                draw_prob += prod_table[i][j]\n",
    "            if i < j:\n",
    "                lose_prob += prod_table[i][j]\n",
    "    \n",
    "    indices = np.where(prod_table == prod_table.max())\n",
    "    home_goals = int(indices[0])\n",
    "    away_goals = int(indices[1])\n",
    "    \n",
    "    return win_prob, draw_prob, lose_prob, home_goals, away_goals"
   ]
  },
  {
   "cell_type": "code",
   "execution_count": 40,
   "metadata": {},
   "outputs": [
    {
     "data": {
      "text/plain": [
       "(0.2618815990071854, 0.24504485353046457, 0.4927426511879934, 1, 1)"
      ]
     },
     "execution_count": 40,
     "metadata": {},
     "output_type": "execute_result"
    }
   ],
   "source": [
    "simulate_match(1659,1840,8)"
   ]
  },
  {
   "cell_type": "code",
   "execution_count": 37,
   "metadata": {},
   "outputs": [],
   "source": [
    "### Groups\n",
    "group_country = [\n",
    "    ['Qatar','Ecuador','Senegal','Netherlands'],\n",
    "    ['England','Iran','United States','Wales'],\n",
    "    ['Argentina','Saudi Arabia','Mexico','Poland'],\n",
    "    ['France','Denmark','Australia','Tunisia'],\n",
    "    ['Spain','Costa Rica','Germany','Japan'],\n",
    "    ['Belgium','Canada','Morocco','Croatia'],\n",
    "    ['Brazil','Serbia','Switzerland','Cameroon'],\n",
    "    ['Portugal','Uruguay','Ghana','South Korea']\n",
    "]"
   ]
  },
  {
   "cell_type": "markdown",
   "metadata": {},
   "source": [
    "## 3.2 Each team's Elo Rating"
   ]
  },
  {
   "cell_type": "code",
   "execution_count": 38,
   "metadata": {},
   "outputs": [
    {
     "name": "stdout",
     "output_type": "stream",
     "text": [
      "Qatar's elo_rank is 1659\n",
      "Ecuador's elo_rank is 1840\n",
      "Senegal's elo_rank is 1687\n",
      "Netherlands's elo_rank is 2040\n",
      "England's elo_rank is 1920\n",
      "Iran's elo_rank is 1818\n",
      "United States's elo_rank is 1798\n",
      "Wales's elo_rank is 1790\n",
      "Argentina's elo_rank is 2141\n",
      "Saudi Arabia's elo_rank is 1640\n",
      "Mexico's elo_rank is 1813\n",
      "Poland's elo_rank is 1809\n",
      "France's elo_rank is 2005\n",
      "Denmark's elo_rank is 1971\n",
      "Australia's elo_rank is 1719\n",
      "Tunisia's elo_rank is 1687\n",
      "Spain's elo_rank is 2045\n",
      "Costa Rica's elo_rank is 1737\n",
      "Germany's elo_rank is 1960\n",
      "Japan's elo_rank is 1798\n",
      "Belgium's elo_rank is 2025\n",
      "Canada's elo_rank is 1770\n",
      "Morocco's elo_rank is 1753\n",
      "Croatia's elo_rank is 1922\n",
      "Brazil's elo_rank is 2169\n",
      "Serbia's elo_rank is 1893\n",
      "Switzerland's elo_rank is 1929\n",
      "Cameroon's elo_rank is 1612\n",
      "Portugal's elo_rank is 2003\n",
      "Uruguay's elo_rank is 1936\n",
      "Ghana's elo_rank is 1540\n",
      "South Korea's elo_rank is 1783\n"
     ]
    }
   ],
   "source": [
    "for groups in group_country:\n",
    "    for country in groups:\n",
    "        elo_rank = elo_rankings_df[elo_rankings_df['Team']==country]['elo_ranking'].to_string(index=False)\n",
    "        print(f\"{country}'s elo_rank is{elo_rank}\")"
   ]
  },
  {
   "cell_type": "markdown",
   "metadata": {},
   "source": [
    "## 3.3 Group stage single simulation"
   ]
  },
  {
   "cell_type": "code",
   "execution_count": 41,
   "metadata": {
    "scrolled": true
   },
   "outputs": [],
   "source": [
    "group_matches = []\n",
    "for i in group_country:\n",
    "    group_matches.append(list(combinations(i,2)))"
   ]
  },
  {
   "cell_type": "code",
   "execution_count": 42,
   "metadata": {},
   "outputs": [
    {
     "data": {
      "text/plain": [
       "[('Qatar', 'Ecuador'),\n",
       " ('Qatar', 'Senegal'),\n",
       " ('Qatar', 'Netherlands'),\n",
       " ('Ecuador', 'Senegal'),\n",
       " ('Ecuador', 'Netherlands'),\n",
       " ('Senegal', 'Netherlands')]"
      ]
     },
     "execution_count": 42,
     "metadata": {},
     "output_type": "execute_result"
    }
   ],
   "source": [
    "group_matches[0]"
   ]
  },
  {
   "cell_type": "code",
   "execution_count": 43,
   "metadata": {},
   "outputs": [
    {
     "name": "stdout",
     "output_type": "stream",
     "text": [
      "Qatar vs Ecuador match probability with outcome: home win 26.190524464929144, draw 24.50448589508337, away win 49.30407278226701 and expected score 1 - 1\n",
      "Qatar vs Senegal match probability with outcome: home win 35.32554781472718, draw 25.736839178352938, away win 38.93726513602226 and expected score 1 - 1\n",
      "Qatar vs Netherlands match probability with outcome: home win 16.29865430254142, draw 20.662288683449283, away win 63.03383467016451 and expected score 0 - 2\n",
      "Ecuador vs Senegal match probability with outcome: home win 47.39223563543997, draw 24.831061631466717, away win 27.77596534907896 and expected score 1 - 1\n",
      "Ecuador vs Netherlands match probability with outcome: home win 25.15034183912247, draw 24.09087496449673, away win 50.75761489954368 and expected score 1 - 1\n",
      "Senegal vs Netherlands match probability with outcome: home win 17.52105207165702, draw 21.297179744152743, away win 61.17762412668337 and expected score 0 - 1\n",
      "England vs Iran match probability with outcome: home win 43.9795261386866, draw 25.224217463945003, away win 30.795721262799745 and expected score 1 - 1\n",
      "England vs United States match probability with outcome: home win 45.33479572420311, draw 25.06666565268357, away win 29.597928158204823 and expected score 1 - 1\n",
      "England vs Wales match probability with outcome: home win 45.87869263668732, draw 24.99570466063026, away win 29.124957073497498 and expected score 1 - 1\n",
      "Iran vs United States match probability with outcome: home win 38.47254235736622, draw 25.645024893609786, away win 35.88206809575971 and expected score 1 - 1\n",
      "Iran vs Wales match probability with outcome: home win 38.9957757564844, draw 25.63377568500096, away win 35.37007895722012 and expected score 1 - 1\n",
      "United States vs Wales match probability with outcome: home win 37.683470151738575, draw 25.668599086199233, away win 36.647573338003816 and expected score 1 - 1\n",
      "Argentina vs Saudi Arabia match probability with outcome: home win 70.76722228487463, draw 17.561372887912675, away win 11.65693700443556 and expected score 2 - 0\n",
      "Argentina vs Mexico match probability with outcome: home win 59.59971565316396, draw 21.750274138256632, away win 18.646490124807908 and expected score 1 - 0\n",
      "Argentina vs Poland match probability with outcome: home win 59.86941903529141, draw 21.66582681732272, away win 18.461115334611122 and expected score 1 - 0\n",
      "Saudi Arabia vs Mexico match probability with outcome: home win 26.63638821573145, draw 24.624972516803712, away win 48.737789032660366 and expected score 1 - 1\n",
      "Saudi Arabia vs Poland match probability with outcome: home win 26.861393216360156, draw 24.675910736538768, away win 48.461873551207994 and expected score 1 - 1\n",
      "Mexico vs Poland match probability with outcome: home win 37.43039509036992, draw 25.657068088698132, away win 36.91217727397124 and expected score 1 - 1\n",
      "France vs Denmark match probability with outcome: home win 39.4747911860163, draw 25.475920648028723, away win 35.04887982991184 and expected score 1 - 1\n",
      "France vs Australia match probability with outcome: home win 56.62361880383181, draw 22.70393371559993, away win 20.67010861016231 and expected score 1 - 1\n",
      "France vs Tunisia match probability with outcome: home win 58.793876456600856, draw 22.073191689479007, away win 19.129879325724026 and expected score 1 - 0\n",
      "Denmark vs Australia match probability with outcome: home win 54.27160349054101, draw 23.342984077800587, away win 22.38367586987527 and expected score 1 - 1\n",
      "Denmark vs Tunisia match probability with outcome: home win 56.4565522075386, draw 22.770095333305797, away win 20.771086446902963 and expected score 1 - 1\n",
      "Australia vs Tunisia match probability with outcome: home win 39.21318601654608, draw 25.70422202310276, away win 35.08223585506207 and expected score 1 - 1\n",
      "Spain vs Costa Rica match probability with outcome: home win 58.15539503277238, draw 22.24203746302153, away win 19.599708877120328 and expected score 1 - 0\n",
      "Spain vs Germany match probability with outcome: home win 42.90267000216489, draw 25.237308660392117, away win 31.859508748920128 and expected score 1 - 1\n",
      "Spain vs Japan match probability with outcome: home win 53.99204998280087, draw 23.366222052478516, away win 22.640006246633675 and expected score 1 - 1\n",
      "Costa Rica vs Germany match probability with outcome: home win 23.903432045247865, draw 23.820562231850946, away win 52.274645855834166 and expected score 1 - 1\n",
      "Costa Rica vs Japan match probability with outcome: home win 33.282735617599826, draw 25.552726060912857, away win 41.16413171570679 and expected score 1 - 1\n",
      "Germany vs Japan match probability with outcome: home win 48.09024056695995, draw 24.635323897123325, away win 27.273601528322388 and expected score 1 - 1\n",
      "Belgium vs Canada match probability with outcome: home win 54.52346173817926, draw 23.246980776226067, away win 22.227733974971994 and expected score 1 - 1\n",
      "Belgium vs Morocco match probability with outcome: home win 55.68663262998395, draw 22.946519867829842, away win 21.36474736469207 and expected score 1 - 1\n",
      "Belgium vs Croatia match probability with outcome: home win 44.10896720089447, draw 25.134162579134063, away win 30.756305251157524 and expected score 1 - 1\n",
      "Canada vs Morocco match probability with outcome: home win 38.256470788473294, draw 25.685683235770856, away win 36.05749067276095 and expected score 1 - 1\n",
      "Canada vs Croatia match probability with outcome: home win 27.843211854634724, draw 24.77596674976286, away win 47.38006186915177 and expected score 1 - 1\n",
      "Morocco vs Croatia match probability with outcome: home win 26.871821982579736, draw 24.584725366066014, away win 48.542587081253416 and expected score 1 - 1\n",
      "Brazil vs Serbia match probability with outcome: home win 56.0885836675557, draw 22.75369233955964, away win 21.15541033739294 and expected score 1 - 1\n",
      "Brazil vs Switzerland match probability with outcome: home win 53.61529407098163, draw 23.38027260254538, away win 23.00271641656868 and expected score 1 - 1\n",
      "Brazil vs Cameroon match probability with outcome: home win 74.11680151188409, draw 16.02777846496761, away win 9.832564694266303 and expected score 2 - 0\n",
      "Serbia vs Switzerland match probability with outcome: home win 34.896719207542745, draw 25.530770322237906, away win 39.5721142257713 and expected score 1 - 1\n",
      "Serbia vs Cameroon match probability with outcome: home win 56.1818237873845, draw 22.89158053491518, away win 20.92446040574012 and expected score 1 - 1\n",
      "Switzerland vs Cameroon match probability with outcome: home win 58.65377352098318, draw 22.15818879151213, away win 19.185109608101868 and expected score 1 - 0\n",
      "Portugal vs Uruguay match probability with outcome: home win 41.66984687443074, draw 25.36537602168383, away win 32.96431822288374 and expected score 1 - 1\n",
      "Portugal vs Ghana match probability with outcome: home win 68.2680509736568, draw 18.678404449219435, away win 13.043495999007519 and expected score 2 - 0\n",
      "Portugal vs South Korea match probability with outcome: home win 52.10336556196462, draw 23.83097968125549, away win 24.06430224262736 and expected score 1 - 1\n",
      "Uruguay vs Ghana match probability with outcome: home win 63.90877505771433, draw 20.400315357945654, away win 15.68526004379131 and expected score 2 - 0\n",
      "Uruguay vs South Korea match probability with outcome: home win 47.457954097589976, draw 24.754044959694056, away win 27.78723078093786 and expected score 1 - 1\n",
      "Ghana vs South Korea match probability with outcome: home win 22.852473161753025, draw 23.649379881892102, away win 53.4966646358635 and expected score 1 - 1\n"
     ]
    }
   ],
   "source": [
    "for i in range(0, len(group_matches)):\n",
    "    for j in range(0, len(group_matches[i])):\n",
    "        home_country = group_matches[i][j][0]\n",
    "        away_country = group_matches[i][j][1]\n",
    "        elo_home = int(elo_rankings_df[elo_rankings_df['Team']==home_country]['elo_ranking'].to_string(index=False))\n",
    "        elo_away = int(elo_rankings_df[elo_rankings_df['Team']==away_country]['elo_ranking'].to_string(index=False))\n",
    "        win_prob, draw_prob, lose_prob, home_goals, away_goals = simulate_match(elo_home,elo_away,10)\n",
    "        print(f\"{home_country} vs {away_country} match probability with outcome: home win {win_prob * 100}, draw {draw_prob * 100}, away win {lose_prob * 100} and expected score {home_goals} - {away_goals}\")"
   ]
  },
  {
   "cell_type": "code",
   "execution_count": null,
   "metadata": {},
   "outputs": [],
   "source": [
    "### Points calculator\n",
    "class GroupStage:\n",
    "    def __init__(self,group):\n",
    "        self.group = group\n",
    "        \n",
    "    def calc_points(self_goals,opp_goals):\n",
    "        if self_goals > opp_goals:\n",
    "            return 3\n",
    "        elif self_goals == opp_goals:\n",
    "            return 1\n",
    "        else:\n",
    "            return 0\n",
    "        \n",
    "    def simulate_match:\n",
    "        \n",
    "        for i in range(0, len(group_matches)):\n",
    "        for j in range(0, len(group_matches[i])):\n",
    "            home_country = group_matches[i][j][0]\n",
    "            away_country = group_matches[i][j][1]\n",
    "            elo_home = int(elo_rankings_df[elo_rankings_df['Team']==home_country]['elo_ranking'].to_string(index=False))\n",
    "            elo_away = int(elo_rankings_df[elo_rankings_df['Team']==away_country]['elo_ranking'].to_string(index=False))\n",
    "            win_prob, draw_prob, lose_prob, home_goals, away_goals = simulate_match(elo_home,elo_away,10)\n",
    "            print(f\"{home_country} vs {away_country} match probability with outcome: home win {win_prob * 100}, draw {draw_prob * 100}, away win {lose_prob * 100} and expected score {home_goals} - {away_goals}\")\n",
    "        \n",
    "    def calculate_points_difference_goals(teams, match_results):\n",
    "        points = {}\n",
    "        difference = {}\n",
    "        goals = {}\n",
    "\n",
    "        for t in teams:\n",
    "            points[t] = 0\n",
    "            difference[t] = 0\n",
    "            goals[t] = 0\n",
    "\n",
    "        for r in match_results:\n",
    "            t1,t2,g1,g2 = r\n",
    "            points[t1] = points[t1] + points_team(g1, g2)\n",
    "            points[t2] = points[t2] + points_team(g2, g1)\n",
    "            difference[t1] = difference[t1] + (g1 - g2)\n",
    "            difference[t2] = difference[t2] + (g2 - g1)\n",
    "            goals[t1] = goals[t1] + g1\n",
    "            goals[t2] = goals[t2] + g2\n",
    "\n",
    "        return points, difference, goals"
   ]
  },
  {
   "cell_type": "markdown",
   "metadata": {},
   "source": [
    "## 3.4 Simulate entire group"
   ]
  },
  {
   "cell_type": "markdown",
   "metadata": {},
   "source": [
    "### Building the functions\n",
    "\n",
    "- simulate_one_group: function to return the results of a simulated match within each group\n",
    "- calc_points: function that returns number of points depending on victory, draw, loss\n",
    "- calculate_points_difference_goals: function to calculate the total points, goal difference and goals scored to determine rank\n",
    "- resolve_points: Calculates/determines who will qualify to next round\n",
    "- simulate_group_stage: Overall orchestrating function to run the simulation for entire group stage"
   ]
  },
  {
   "cell_type": "code",
   "execution_count": 46,
   "metadata": {},
   "outputs": [],
   "source": [
    "def simulate_group(group_matches, elo_rankings_df):\n",
    "    results = []\n",
    "    for i in range(0, len(group_matches)):\n",
    "        home_country = group_matches[i][0]\n",
    "        away_country = group_matches[i][1]\n",
    "        elo_home = int(elo_rankings_df[elo_rankings_df['Team']==home_country]['elo_ranking'].to_string(index=False))\n",
    "        elo_away = int(elo_rankings_df[elo_rankings_df['Team']==away_country]['elo_ranking'].to_string(index=False))\n",
    "        win_prob, draw_prob, lose_prob, home_goals, away_goals = simulate_match(elo_home,elo_away,10)\n",
    "        results.append([home_country,away_country,home_goals,away_goals])\n",
    "    return results"
   ]
  },
  {
   "cell_type": "code",
   "execution_count": 47,
   "metadata": {},
   "outputs": [],
   "source": [
    "def calc_points(self_goals,opp_goals):\n",
    "        if self_goals > opp_goals:\n",
    "            return 3\n",
    "        elif self_goals == opp_goals:\n",
    "            return 1\n",
    "        else:\n",
    "            return 0"
   ]
  },
  {
   "cell_type": "code",
   "execution_count": 48,
   "metadata": {},
   "outputs": [],
   "source": [
    "def calculate_points_difference_goals(teams, match_results):\n",
    "    points = {}\n",
    "    difference = {}\n",
    "    goals = {}\n",
    "    \n",
    "    for t in teams:\n",
    "        points[t] = 0\n",
    "        difference[t] = 0\n",
    "        goals[t] = 0\n",
    "        \n",
    "    for r in match_results:\n",
    "        t1,t2,g1,g2 = r\n",
    "        points[t1] = points[t1] + calc_points(g1, g2)\n",
    "        points[t2] = points[t2] + calc_points(g2, g1)\n",
    "        difference[t1] = difference[t1] + (g1 - g2)\n",
    "        difference[t2] = difference[t2] + (g2 - g1)\n",
    "        goals[t1] = goals[t1] + g1\n",
    "        goals[t2] = goals[t2] + g2\n",
    "    return points, difference, goals"
   ]
  },
  {
   "cell_type": "code",
   "execution_count": 49,
   "metadata": {},
   "outputs": [],
   "source": [
    "def resolve_points(points, difference, goals):\n",
    "    points_df = pd.DataFrame([points,difference,goals]).T\n",
    "    points_df.columns = [\"points\",\"difference\",\"goals\"]\n",
    "    points_df['Team'] = points_df.index\n",
    "    points_df.sort_values(by=['points','difference','goals'], inplace=True,\n",
    "               ascending = [False, False,False])\n",
    "    k = 0\n",
    "    j = 1\n",
    "    \n",
    "    if all(points_df[['points','difference',\"goals\"]].iloc[0] == points_df[['points','difference',\"goals\"]].iloc[1]):\n",
    "        k = random.randint(0, 1)\n",
    "    if all(points_df[['points','difference',\"goals\"]].iloc[1] == points_df[['points','difference',\"goals\"]].iloc[2]):\n",
    "        if k == 1:\n",
    "            j = 2\n",
    "        else:\n",
    "            j = random.randint(1, 2)\n",
    "            \n",
    "    return points_df, points_df.iloc[k].Team , points_df.iloc[j].Team\n"
   ]
  },
  {
   "cell_type": "code",
   "execution_count": 51,
   "metadata": {},
   "outputs": [],
   "source": [
    "def simulate_one_group(group_matches_ind,group_teams_ind,elo_rankings_df):\n",
    "    all_results = simulate_group(group_matches_ind, elo_rankings_df)\n",
    "    points, difference, goals = calculate_points_difference_goals(group_teams_ind,all_results)\n",
    "    points_df, group_winner, group_runnerup = resolve_points(points, difference, goals)\n",
    "    return points_df, group_winner, group_runnerup"
   ]
  },
  {
   "cell_type": "code",
   "execution_count": 57,
   "metadata": {},
   "outputs": [],
   "source": [
    "group_letters = ['A','B','C','D','E','F','G','H']"
   ]
  },
  {
   "cell_type": "code",
   "execution_count": 58,
   "metadata": {},
   "outputs": [],
   "source": [
    "def simulate_group_stage(group_matches,group_country, elo_rankings_df):\n",
    "    group_rankings = []\n",
    "    group_stage_results = {}\n",
    "    print ('Running group stage simulation...')\n",
    "    for i in range(0,len(group_matches)):\n",
    "        group_rankings.append(simulate_one_group(group_matches[i],group_country[i],elo_rankings_df))\n",
    "        group_stage_results[group_letters[i] + '1'] = group_rankings[i][1]\n",
    "        group_stage_results[group_letters[i] + '2'] = group_rankings[i][2]\n",
    "        print(f'Complete Group {group_letters[i]} simulation')\n",
    "    return group_stage_results, group_rankings"
   ]
  },
  {
   "cell_type": "code",
   "execution_count": 57,
   "metadata": {},
   "outputs": [],
   "source": [
    "points_df , _ , _ = simulate_one_group(group_matches[5],group_country[5],elo_rankings_df)"
   ]
  },
  {
   "cell_type": "code",
   "execution_count": 58,
   "metadata": {},
   "outputs": [
    {
     "data": {
      "text/html": [
       "<div>\n",
       "<style scoped>\n",
       "    .dataframe tbody tr th:only-of-type {\n",
       "        vertical-align: middle;\n",
       "    }\n",
       "\n",
       "    .dataframe tbody tr th {\n",
       "        vertical-align: top;\n",
       "    }\n",
       "\n",
       "    .dataframe thead th {\n",
       "        text-align: right;\n",
       "    }\n",
       "</style>\n",
       "<table border=\"1\" class=\"dataframe\">\n",
       "  <thead>\n",
       "    <tr style=\"text-align: right;\">\n",
       "      <th></th>\n",
       "      <th>points</th>\n",
       "      <th>difference</th>\n",
       "      <th>goals</th>\n",
       "      <th>Team</th>\n",
       "    </tr>\n",
       "  </thead>\n",
       "  <tbody>\n",
       "    <tr>\n",
       "      <th>Belgium</th>\n",
       "      <td>3</td>\n",
       "      <td>0</td>\n",
       "      <td>3</td>\n",
       "      <td>Belgium</td>\n",
       "    </tr>\n",
       "    <tr>\n",
       "      <th>Canada</th>\n",
       "      <td>3</td>\n",
       "      <td>0</td>\n",
       "      <td>3</td>\n",
       "      <td>Canada</td>\n",
       "    </tr>\n",
       "    <tr>\n",
       "      <th>Morocco</th>\n",
       "      <td>3</td>\n",
       "      <td>0</td>\n",
       "      <td>3</td>\n",
       "      <td>Morocco</td>\n",
       "    </tr>\n",
       "    <tr>\n",
       "      <th>Croatia</th>\n",
       "      <td>3</td>\n",
       "      <td>0</td>\n",
       "      <td>3</td>\n",
       "      <td>Croatia</td>\n",
       "    </tr>\n",
       "  </tbody>\n",
       "</table>\n",
       "</div>"
      ],
      "text/plain": [
       "         points  difference  goals     Team\n",
       "Belgium       3           0      3  Belgium\n",
       "Canada        3           0      3   Canada\n",
       "Morocco       3           0      3  Morocco\n",
       "Croatia       3           0      3  Croatia"
      ]
     },
     "execution_count": 58,
     "metadata": {},
     "output_type": "execute_result"
    }
   ],
   "source": [
    "points_df"
   ]
  },
  {
   "cell_type": "code",
   "execution_count": 59,
   "metadata": {},
   "outputs": [
    {
     "name": "stdout",
     "output_type": "stream",
     "text": [
      "Running group stage simulation...\n",
      "Complete Group A simulation\n",
      "Complete Group B simulation\n",
      "Complete Group C simulation\n",
      "Complete Group D simulation\n",
      "Complete Group E simulation\n",
      "Complete Group F simulation\n",
      "Complete Group G simulation\n",
      "Complete Group H simulation\n"
     ]
    },
    {
     "data": {
      "text/plain": [
       "({'A1': 'Netherlands',\n",
       "  'A2': 'Ecuador',\n",
       "  'B1': 'England',\n",
       "  'B2': 'Iran',\n",
       "  'C1': 'Argentina',\n",
       "  'C2': 'Poland',\n",
       "  'D1': 'France',\n",
       "  'D2': 'Australia',\n",
       "  'E1': 'Spain',\n",
       "  'E2': 'Germany',\n",
       "  'F1': 'Canada',\n",
       "  'F2': 'Morocco',\n",
       "  'G1': 'Brazil',\n",
       "  'G2': 'Switzerland',\n",
       "  'H1': 'Portugal',\n",
       "  'H2': 'Uruguay'},\n",
       " [(             points  difference  goals         Team\n",
       "   Netherlands       7           3      4  Netherlands\n",
       "   Ecuador           3           0      3      Ecuador\n",
       "   Senegal           2          -1      2      Senegal\n",
       "   Qatar             2          -2      2        Qatar,\n",
       "   'Netherlands',\n",
       "   'Ecuador'),\n",
       "  (               points  difference  goals           Team\n",
       "   England             3           0      3        England\n",
       "   Iran                3           0      3           Iran\n",
       "   United States       3           0      3  United States\n",
       "   Wales               3           0      3          Wales, 'England', 'Iran'),\n",
       "  (              points  difference  goals          Team\n",
       "   Argentina          9           4      4     Argentina\n",
       "   Mexico             2          -1      2        Mexico\n",
       "   Poland             2          -1      2        Poland\n",
       "   Saudi Arabia       2          -2      2  Saudi Arabia,\n",
       "   'Argentina',\n",
       "   'Poland'),\n",
       "  (           points  difference  goals       Team\n",
       "   France          5           1      3     France\n",
       "   Denmark         3           0      3    Denmark\n",
       "   Australia       3           0      3  Australia\n",
       "   Tunisia         2          -1      2    Tunisia, 'France', 'Australia'),\n",
       "  (            points  difference  goals        Team\n",
       "   Spain            5           1      3       Spain\n",
       "   Germany          3           0      3     Germany\n",
       "   Japan            3           0      3       Japan\n",
       "   Costa Rica       2          -1      2  Costa Rica, 'Spain', 'Germany'),\n",
       "  (         points  difference  goals     Team\n",
       "   Belgium       3           0      3  Belgium\n",
       "   Canada        3           0      3   Canada\n",
       "   Morocco       3           0      3  Morocco\n",
       "   Croatia       3           0      3  Croatia, 'Canada', 'Morocco'),\n",
       "  (             points  difference  goals         Team\n",
       "   Brazil            5           2      4       Brazil\n",
       "   Switzerland       5           1      3  Switzerland\n",
       "   Serbia            3           0      3       Serbia\n",
       "   Cameroon          1          -3      1     Cameroon,\n",
       "   'Brazil',\n",
       "   'Switzerland'),\n",
       "  (             points  difference  goals         Team\n",
       "   Portugal          5           2      4     Portugal\n",
       "   Uruguay           5           2      4      Uruguay\n",
       "   South Korea       3           0      3  South Korea\n",
       "   Ghana             1          -4      1        Ghana,\n",
       "   'Portugal',\n",
       "   'Uruguay')])"
      ]
     },
     "execution_count": 59,
     "metadata": {},
     "output_type": "execute_result"
    }
   ],
   "source": [
    "simulate_group_stage(group_matches,group_country, elo_rankings_df)"
   ]
  },
  {
   "cell_type": "code",
   "execution_count": 63,
   "metadata": {},
   "outputs": [],
   "source": [
    "ro16 = [['A1','B2'],['C1','D2'],['D1','C2'],['B1','A2'],['E1','F2'],['G1','H2'],['F1','E2'],['H1','G2']]\n",
    "qf = [[ro16[4],ro16[5]],\n",
    "      [ro16[0],ro16[1]],\n",
    "       [ro16[6],ro16[7]],\n",
    "       [ro16[2],ro16[3]]]\n",
    "sf = [qf[0],qf[1],\n",
    "     [qf[2],qf[3]]]\n"
   ]
  },
  {
   "cell_type": "code",
   "execution_count": 64,
   "metadata": {},
   "outputs": [
    {
     "data": {
      "text/plain": [
       "{'A1': 'Netherlands', 'A2': 'Ecuador'}"
      ]
     },
     "execution_count": 64,
     "metadata": {},
     "output_type": "execute_result"
    }
   ],
   "source": [
    "group_stage_results"
   ]
  },
  {
   "cell_type": "markdown",
   "metadata": {},
   "source": [
    "# 5. Simulating the knockout rounds"
   ]
  },
  {
   "cell_type": "markdown",
   "metadata": {},
   "source": [
    "### 5.1 Building the functions\n",
    "\n",
    "- simulate_knockout_each_stage: a function that determines the winner at each stage of the knockout stages\n",
    "- simulate_knockout_stages : orchestration function that runs the simulation for entire knockout stage"
   ]
  },
  {
   "cell_type": "code",
   "execution_count": 59,
   "metadata": {},
   "outputs": [],
   "source": [
    "def simulate_knockout_each_stage(stage,elo_rankings_df,group_stage_results):\n",
    "    winner_list = []\n",
    "    for i in range(0,len(stage)):\n",
    "        if stage == ro16:\n",
    "            home_country = group_stage_results[stage[i][0]]\n",
    "            away_country = group_stage_results[stage[i][1]]\n",
    "        else:\n",
    "            home_country = stage[i][0]\n",
    "            away_country = stage[i][1]\n",
    "        print(f\"Home country {home_country}, away country {away_country}\")\n",
    "        elo_home = int(elo_rankings_df[elo_rankings_df['Team']==home_country]['elo_ranking'].to_string(index=False))\n",
    "        elo_away = int(elo_rankings_df[elo_rankings_df['Team']==away_country]['elo_ranking'].to_string(index=False))\n",
    "        win_prob, draw_prob, lose_prob, home_goals, away_goals = simulate_match(elo_home,elo_away,10)\n",
    "        if max([win_prob, draw_prob, lose_prob]) == win_prob:\n",
    "            winner = home_country\n",
    "        elif max([win_prob, draw_prob, lose_prob]) == lose_prob:\n",
    "            winner = away_country\n",
    "        elif max([win_prob, draw_prob, lose_prob]) == draw_prob:\n",
    "            print('Draw!')\n",
    "            winner = random.choice([home_country,away_country])\n",
    "        print (f\"{home_country} vs {away_country} match probability with outcome: home win {win_prob * 100:.2f}%, draw {draw_prob * 100:.2f}%, away win {lose_prob * 100:.2f}% and expected score {home_goals} - {away_goals}\")\n",
    "        winner_list.append(winner)\n",
    "    return winner_list"
   ]
  },
  {
   "cell_type": "code",
   "execution_count": 70,
   "metadata": {},
   "outputs": [],
   "source": [
    "def simulate_knockout_stages(ro16,elo_rankings_df,group_stage_results):\n",
    "    print('Simulating the ro16 games...')\n",
    "    ro16_winners = simulate_knockout_each_stage(ro16,elo_rankings_df,group_stage_results)\n",
    "    qf = [[ro16_winners[4],ro16_winners[5]],\n",
    "          [ro16_winners[0],ro16_winners[1]],\n",
    "           [ro16_winners[6],ro16_winners[7]],\n",
    "           [ro16_winners[2],ro16_winners[3]]]\n",
    "    print('Simulating the quarter finals now...')\n",
    "    quarters_winner = simulate_knockout_each_stage(qf,elo_rankings_df,group_stage_results)\n",
    "    sf = [[quarters_winner[0],quarters_winner[1]],\n",
    "         [quarters_winner[2],quarters_winner[3]]]\n",
    "    print('Simulating the semi finals now...')\n",
    "    semi_winner = simulate_knockout_each_stage(sf,elo_rankings_df,group_stage_results)\n",
    "    final = [[semi_winner[0],semi_winner[1]]]\n",
    "    print('Simulating the finals now...')\n",
    "    tournament_winner = simulate_knockout_each_stage(final,elo_rankings_df,group_stage_results)\n",
    "    return tournament_winner"
   ]
  },
  {
   "cell_type": "markdown",
   "metadata": {},
   "source": [
    "## 6. Simulating the entire tournament"
   ]
  },
  {
   "cell_type": "code",
   "execution_count": 73,
   "metadata": {},
   "outputs": [],
   "source": [
    "def simulate_tournament():\n",
    "    group_rankings, detailed_group_results = simulate_group_stage(group_matches,group_country, elo_rankings_df)\n",
    "    ro16 = [['A1','B2'],['C1','D2'],['D1','C2'],['B1','A2'],['E1','F2'],['G1','H2'],['F1','E2'],['H1','G2']]\n",
    "    winner = simulate_knockout_stages(ro16,elo_rankings_df,group_rankings)\n",
    "    return winner , group_rankings, detailed_group_results"
   ]
  },
  {
   "cell_type": "markdown",
   "metadata": {},
   "source": [
    "# Results"
   ]
  },
  {
   "cell_type": "code",
   "execution_count": 74,
   "metadata": {},
   "outputs": [
    {
     "name": "stdout",
     "output_type": "stream",
     "text": [
      "Running group stage simulation...\n",
      "Complete Group A simulation\n",
      "Complete Group B simulation\n",
      "Complete Group C simulation\n",
      "Complete Group D simulation\n",
      "Complete Group E simulation\n",
      "Complete Group F simulation\n",
      "Complete Group G simulation\n",
      "Complete Group H simulation\n",
      "Simulating the ro16 games...\n",
      "Home country Netherlands, away country Iran\n",
      "Netherlands vs Iran match probability with outcome: home win 52.27%, draw 23.77%, away win 23.96% and expected score 1 - 1\n",
      "Home country Argentina, away country Denmark\n",
      "Argentina vs Denmark match probability with outcome: home win 48.77%, draw 24.40%, away win 26.83% and expected score 1 - 1\n",
      "Home country France, away country Mexico\n",
      "France vs Mexico match probability with outcome: home win 50.18%, draw 24.23%, away win 25.59% and expected score 1 - 1\n",
      "Home country England, away country Ecuador\n",
      "England vs Ecuador match probability with outcome: home win 42.50%, draw 25.36%, away win 32.14% and expected score 1 - 1\n",
      "Home country Spain, away country Morocco\n",
      "Spain vs Morocco match probability with outcome: home win 57.07%, draw 22.56%, away win 20.37% and expected score 1 - 1\n",
      "Home country Brazil, away country Uruguay\n",
      "Brazil vs Uruguay match probability with outcome: home win 53.13%, draw 23.49%, away win 23.37% and expected score 1 - 1\n",
      "Home country Canada, away country Germany\n",
      "Canada vs Germany match probability with outcome: home win 25.70%, draw 24.29%, away win 50.01% and expected score 1 - 1\n",
      "Home country Portugal, away country Switzerland\n",
      "Portugal vs Switzerland match probability with outcome: home win 42.14%, draw 25.33%, away win 32.53% and expected score 1 - 1\n",
      "Simulating the quarter finals now...\n",
      "Home country Spain, away country Brazil\n",
      "Spain vs Brazil match probability with outcome: home win 29.52%, draw 24.85%, away win 45.63% and expected score 1 - 1\n",
      "Home country Netherlands, away country Argentina\n",
      "Netherlands vs Argentina match probability with outcome: home win 30.90%, draw 25.06%, away win 44.04% and expected score 1 - 1\n",
      "Home country Germany, away country Portugal\n",
      "Germany vs Portugal match probability with outcome: home win 34.47%, draw 25.45%, away win 40.07% and expected score 1 - 1\n",
      "Home country France, away country England\n",
      "France vs England match probability with outcome: home win 42.88%, draw 25.27%, away win 31.85% and expected score 1 - 1\n",
      "Simulating the semi finals now...\n",
      "Home country Brazil, away country Argentina\n",
      "Brazil vs Argentina match probability with outcome: home win 39.15%, draw 25.36%, away win 35.49% and expected score 1 - 1\n",
      "Home country Portugal, away country France\n",
      "Portugal vs France match probability with outcome: home win 37.12%, draw 25.51%, away win 37.38% and expected score 1 - 1\n",
      "Simulating the finals now...\n",
      "Home country Brazil, away country France\n",
      "Brazil vs France match probability with outcome: home win 48.37%, draw 24.45%, away win 27.18% and expected score 1 - 1\n"
     ]
    }
   ],
   "source": [
    "winner , group_rankings, detailed_group_results = simulate_tournament()"
   ]
  },
  {
   "cell_type": "code",
   "execution_count": 75,
   "metadata": {},
   "outputs": [],
   "source": [
    "import dataframe_image as dfi"
   ]
  },
  {
   "cell_type": "code",
   "execution_count": 76,
   "metadata": {},
   "outputs": [],
   "source": [
    "for i in range(0,len(detailed_group_results)):\n",
    "    df = detailed_group_results[i][0][['points','difference','goals']]\n",
    "    dfi.export(df,f\"df_xg_{i}.png\")"
   ]
  },
  {
   "cell_type": "code",
   "execution_count": 88,
   "metadata": {},
   "outputs": [],
   "source": [
    "def simulate_match_df(elo_home, elo_away,max_goals):\n",
    "    goals_range = range(0,max_goals)\n",
    "    home_poisson_pmf = poisson.pmf(k=goals_range, mu=simulate_xg(elo_home,elo_away))\n",
    "    away_poisson_pmf = poisson.pmf(k=goals_range, mu=simulate_xg(elo_away,elo_home))\n",
    "    prod_table = np.array([(i*j) for i, j in product(home_poisson_pmf, away_poisson_pmf)])\n",
    "    prod_table.shape = (max_goals, max_goals)\n",
    "    home_win_prob, draw_prob, home_lose_prob, home_expected_goals, away_expected_goals = poisson_matrix_outcome(prod_table)\n",
    "    return home_win_prob, draw_prob, home_lose_prob, home_expected_goals, away_expected_goals,prod_table"
   ]
  },
  {
   "cell_type": "code",
   "execution_count": 97,
   "metadata": {},
   "outputs": [],
   "source": [
    "_,_,_,_,_, prod_table_df = simulate_match_df(1920, 1818,6)"
   ]
  }
 ],
 "metadata": {
  "kernelspec": {
   "display_name": "Python 3",
   "language": "python",
   "name": "python3"
  },
  "language_info": {
   "codemirror_mode": {
    "name": "ipython",
    "version": 3
   },
   "file_extension": ".py",
   "mimetype": "text/x-python",
   "name": "python",
   "nbconvert_exporter": "python",
   "pygments_lexer": "ipython3",
   "version": "3.6.5"
  }
 },
 "nbformat": 4,
 "nbformat_minor": 2
}
