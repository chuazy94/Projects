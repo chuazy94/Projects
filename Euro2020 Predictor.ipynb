{
 "cells": [
  {
   "cell_type": "code",
   "execution_count": null,
   "metadata": {},
   "outputs": [],
   "source": [
    "#The basics\n",
    "import pandas as pd\n",
    "import numpy as np\n",
    "import json\n",
    "import seaborn as sns\n",
    "\n",
    "#Plotting\n",
    "import matplotlib.pyplot as plt\n",
    "\n",
    "\n",
    "#Statistical fitting of models\n",
    "import statsmodels.api as sm\n",
    "import statsmodels.formula.api as smf \n",
    "\n",
    "from matplotlib.patches import Arc\n",
    "from matplotlib import cm\n",
    "from matplotlib.colors import Normalize\n",
    "\n",
    "\n",
    "from matplotlib.patches import Ellipse\n",
    "from pandas.io.json import json_normalize\n",
    "\n",
    "## Import Selenium for scrape\n",
    "from selenium import webdriver\n",
    "import time\n",
    "\n",
    "# Import ipywidgets\n",
    "from ipywidgets import interact, interactive, fixed, interact_manual\n",
    "import ipywidgets"
   ]
  },
  {
   "cell_type": "code",
   "execution_count": null,
   "metadata": {},
   "outputs": [],
   "source": [
    "footy_df = pd.read_csv('international_matches_xg.csv')"
   ]
  },
  {
   "cell_type": "code",
   "execution_count": null,
   "metadata": {},
   "outputs": [],
   "source": [
    "# Drop the ones without any xG values\n",
    "footy_df = footy_df[footy_df.team_a_xg != 0]"
   ]
  },
  {
   "cell_type": "code",
   "execution_count": null,
   "metadata": {},
   "outputs": [],
   "source": [
    "footy_df[['home_team_goal_count','away_team_goal_count','team_a_xg','team_b_xg']].corr()"
   ]
  },
  {
   "cell_type": "code",
   "execution_count": null,
   "metadata": {},
   "outputs": [],
   "source": [
    "import scipy as sp\n",
    "linreg = sp.stats.linregress(footy_df['home_team_goal_count'],footy_df['team_a_xg'])\n",
    "\n",
    "plt.scatter(footy_df['home_team_goal_count'],footy_df['team_a_xg'])\n",
    "plt.plot(np.unique(footy_df['home_team_goal_count']), np.poly1d(np.polyfit(footy_df['home_team_goal_count'], footy_df['team_a_xg'], 1))(np.unique(footy_df['home_team_goal_count'])))\n",
    "plt.text(6, 4, 'R-squared = %0.3f' %linreg.rvalue)"
   ]
  },
  {
   "cell_type": "code",
   "execution_count": null,
   "metadata": {},
   "outputs": [],
   "source": [
    "r2_score(footy_df['home_team_goal_count'], footy_df['team_a_xg'])"
   ]
  },
  {
   "cell_type": "code",
   "execution_count": null,
   "metadata": {},
   "outputs": [],
   "source": [
    "sns.heatmap(footy_df[['home_team_goal_count','away_team_goal_count','team_a_xg','team_b_xg']])"
   ]
  },
  {
   "cell_type": "code",
   "execution_count": null,
   "metadata": {},
   "outputs": [],
   "source": [
    "footy_df.groupby(by='home_team_name').mean()"
   ]
  },
  {
   "cell_type": "code",
   "execution_count": null,
   "metadata": {},
   "outputs": [],
   "source": [
    "euro_list = ['Turkey','Switzerland','Italy','Wales','Denmark','Finland','Belgium','Russia'\n",
    "        ,'Netherlands','Ukraine','Austria','FYR Macedonia','England','Croatia','Scotland','Czech Republic'\n",
    "       ,'Spain','Sweden','Poland','Slovakia','Hungary','Portugal','France','Germany']\n",
    "euro_teams_df = pd.DataFrame(data=euro_list)"
   ]
  },
  {
   "cell_type": "code",
   "execution_count": null,
   "metadata": {},
   "outputs": [],
   "source": [
    "euro_teams_df=euro_teams_df.rename(columns={0:'euro_team'})"
   ]
  },
  {
   "cell_type": "code",
   "execution_count": null,
   "metadata": {},
   "outputs": [],
   "source": [
    "home_df = footy_df[['Competition','home_team_name','home_team_goal_count','team_a_xg','team_b_xg']]\n",
    "away_df = footy_df[['Competition','away_team_name','away_team_goal_count','team_b_xg','team_a_xg']]\n",
    "\n",
    "away_df.columns = home_df.columns\n",
    "\n",
    "combined_df = pd.concat([home_df,away_df])\n",
    "\n",
    "combined_df=combined_df.rename(columns={'home_team_name':'team_name','home_team_goal_count':'team_goal_count'})"
   ]
  },
  {
   "cell_type": "code",
   "execution_count": null,
   "metadata": {},
   "outputs": [],
   "source": [
    "Euros_teams_df = combined_df.merge(euro_teams_df,how='inner',left_on='team_name',right_on='euro_team',validate=\"many_to_one\")"
   ]
  },
  {
   "cell_type": "code",
   "execution_count": null,
   "metadata": {},
   "outputs": [],
   "source": [
    "Euros_teams_df.groupby('team_name').mean()"
   ]
  },
  {
   "cell_type": "code",
   "execution_count": null,
   "metadata": {},
   "outputs": [],
   "source": [
    "Euros_teams_df[Euros_teams_df['team_name']=='Spain']"
   ]
  },
  {
   "cell_type": "code",
   "execution_count": null,
   "metadata": {},
   "outputs": [],
   "source": [
    "xG_actual_corr_df = pd.DataFrame(Euros_teams_df.groupby('team_name')[['team_goal_count','team_a_xg']].corr().iloc[0::2,-1])"
   ]
  },
  {
   "cell_type": "code",
   "execution_count": null,
   "metadata": {},
   "outputs": [],
   "source": [
    "test = pd.DataFrame(Euros_teams_df.groupby('team_name')[['team_goal_count','team_a_xg']].corr().unstack().iloc[:,1])"
   ]
  },
  {
   "cell_type": "code",
   "execution_count": null,
   "metadata": {},
   "outputs": [],
   "source": [
    "pd.DataFrame(test['team_goal_count']['team_a_xg'])['team_a_xg']"
   ]
  },
  {
   "cell_type": "code",
   "execution_count": null,
   "metadata": {},
   "outputs": [],
   "source": [
    "plt.plot(test['team_goal_count']['team_a_xg'])"
   ]
  },
  {
   "cell_type": "code",
   "execution_count": null,
   "metadata": {},
   "outputs": [],
   "source": [
    "test.columns=test.columns.droplevel(0)"
   ]
  },
  {
   "cell_type": "code",
   "execution_count": null,
   "metadata": {},
   "outputs": [],
   "source": [
    "test.columns = test.columns.map(lambda x: x[1]) "
   ]
  },
  {
   "cell_type": "code",
   "execution_count": null,
   "metadata": {},
   "outputs": [],
   "source": [
    "test = test.reset_index()\n",
    "test = test.rename(columns={'e':'Correlation with xG'})"
   ]
  },
  {
   "cell_type": "code",
   "execution_count": null,
   "metadata": {},
   "outputs": [],
   "source": [
    "plt.scatter(test['team_name'],test['Correlation with xG'],marker='o',c='')"
   ]
  },
  {
   "cell_type": "code",
   "execution_count": null,
   "metadata": {},
   "outputs": [],
   "source": [
    "from matplotlib.pyplot import figure\n",
    "\n",
    "figure(figsize=(25, 6), dpi=80)\n",
    "\n",
    "plt.bar(test['team_name'],test['Correlation with xG'])"
   ]
  },
  {
   "cell_type": "code",
   "execution_count": null,
   "metadata": {},
   "outputs": [],
   "source": []
  },
  {
   "cell_type": "code",
   "execution_count": null,
   "metadata": {},
   "outputs": [],
   "source": [
    "Euros_teams_df_agg = Euros_teams_df.groupby('team_name').median()"
   ]
  },
  {
   "cell_type": "code",
   "execution_count": null,
   "metadata": {},
   "outputs": [],
   "source": [
    "Euros_teams_df_agg['xG_dif'] = Euros_teams_df_agg['team_a_xg'] - Euros_teams_df_agg['team_goal_count']"
   ]
  },
  {
   "cell_type": "code",
   "execution_count": null,
   "metadata": {},
   "outputs": [],
   "source": [
    "test= test.drop(columns='index')"
   ]
  },
  {
   "cell_type": "code",
   "execution_count": null,
   "metadata": {},
   "outputs": [],
   "source": [
    "new_df = test.join(Euros_teams_df_agg,on='team_name',how='inner')"
   ]
  },
  {
   "cell_type": "code",
   "execution_count": null,
   "metadata": {},
   "outputs": [],
   "source": [
    "new_df_final = new_df[['team_name','Correlation with xG']]"
   ]
  },
  {
   "cell_type": "code",
   "execution_count": null,
   "metadata": {},
   "outputs": [],
   "source": [
    "new_df_final.sort_values(by='Correlation with xG').plot(kind='barh',color = 'forestgreen',figsize=(8, 10), zorder=2, width=0.85)\n",
    "y_pos = np.arange(len(test))\n",
    "plt.yticks(y_pos, new_df_final['team_name'])\n",
    "plt.title('Euro 2020 teams xG vs actual goals scored correlation')\n",
    "#plt.savefig('plots/Euro_predictor_corr.png',bbox_inches='tight')"
   ]
  },
  {
   "cell_type": "code",
   "execution_count": null,
   "metadata": {},
   "outputs": [],
   "source": [
    "new_df"
   ]
  },
  {
   "cell_type": "code",
   "execution_count": null,
   "metadata": {},
   "outputs": [],
   "source": [
    "test"
   ]
  },
  {
   "cell_type": "code",
   "execution_count": null,
   "metadata": {},
   "outputs": [],
   "source": [
    "Euros_teams_df"
   ]
  },
  {
   "cell_type": "code",
   "execution_count": null,
   "metadata": {},
   "outputs": [],
   "source": [
    "from sklearn.metrics import mean_squared_error"
   ]
  },
  {
   "cell_type": "code",
   "execution_count": null,
   "metadata": {},
   "outputs": [],
   "source": [
    "Euros_teams_df.groupby(Euros_teams_df.team_name).apply(lambda x: mean_squared_error(x.team_goal_count,x.team_a_xg)**0.5)"
   ]
  },
  {
   "cell_type": "code",
   "execution_count": null,
   "metadata": {},
   "outputs": [],
   "source": [
    "test_2_df = pd.DataFrame(Euros_teams_df.groupby(Euros_teams_df.team_name).apply(lambda x: mean_squared_error(x.team_goal_count,x.team_a_xg)))"
   ]
  },
  {
   "cell_type": "code",
   "execution_count": null,
   "metadata": {},
   "outputs": [],
   "source": [
    "test_2_df.columns = test_2_df.columns.map(lambda x: x[1]) "
   ]
  },
  {
   "cell_type": "code",
   "execution_count": null,
   "metadata": {},
   "outputs": [],
   "source": [
    "test_2_df.columns"
   ]
  },
  {
   "cell_type": "code",
   "execution_count": null,
   "metadata": {},
   "outputs": [],
   "source": [
    "Euros_teams_df.columns"
   ]
  },
  {
   "cell_type": "code",
   "execution_count": null,
   "metadata": {},
   "outputs": [],
   "source": [
    "test_2_df.index = list(test_2_df.index)\n"
   ]
  },
  {
   "cell_type": "code",
   "execution_count": null,
   "metadata": {},
   "outputs": [],
   "source": [
    "test_2_df.columns"
   ]
  },
  {
   "cell_type": "code",
   "execution_count": null,
   "metadata": {},
   "outputs": [],
   "source": [
    "test_2_df=test_2_df.rename(columns={0:'RMSE'})"
   ]
  },
  {
   "cell_type": "code",
   "execution_count": null,
   "metadata": {},
   "outputs": [],
   "source": [
    "test_2_df.sort_values(by='RMSE').plot(kind='barh',color = 'forestgreen',figsize=(8, 10), zorder=2, width=0.85)\n",
    "y_pos = np.arange(len(test_2_df))\n",
    "#plt.yticks(y_pos, new_df_final['team_name'])\n",
    "plt.title('Euro 2020 teams xG Root Mean Squared Error vs Actual Goals')\n",
    "plt.savefig('plots/Euro_2020_xG_RMSE.png',bbox_inches='tight')\n"
   ]
  },
  {
   "cell_type": "code",
   "execution_count": null,
   "metadata": {},
   "outputs": [],
   "source": [
    "Euros_teams_df['goals_over_xg'] = Euros_teams_df['team_goal_count'] - Euros_teams_df['team_a_xg'] "
   ]
  },
  {
   "cell_type": "code",
   "execution_count": null,
   "metadata": {},
   "outputs": [],
   "source": [
    "goal_over_xg_df = Euros_teams_df[['team_name','goals_over_xg']].groupby('team_name').mean()"
   ]
  },
  {
   "cell_type": "code",
   "execution_count": null,
   "metadata": {},
   "outputs": [],
   "source": [
    "goal_over_xg_df"
   ]
  },
  {
   "cell_type": "code",
   "execution_count": null,
   "metadata": {},
   "outputs": [],
   "source": [
    "goal_over_xg_df.sort_values(by='Goals Over xG').plot(kind='barh',color = 'navy',figsize=(8, 10), zorder=2, width=0.85)\n",
    "y_pos = np.arange(len(goal_over_xg_df))\n",
    "#plt.yticks(y_pos, goal_over_xg_df['team_name'])\n",
    "plt.title('Euro 2020 teams Goals over xG')\n",
    "plt.ylabel('')\n",
    "\n",
    "plt.savefig('plots/Euro_2020_goals_over_xg.png',bbox_inches='tight')"
   ]
  },
  {
   "cell_type": "code",
   "execution_count": null,
   "metadata": {},
   "outputs": [],
   "source": [
    "goal_over_xg_df"
   ]
  },
  {
   "cell_type": "code",
   "execution_count": null,
   "metadata": {},
   "outputs": [],
   "source": [
    "goal_over_xg_df.columns = goal_over_xg_df.columns.map(lambda x: x[1]) "
   ]
  },
  {
   "cell_type": "code",
   "execution_count": null,
   "metadata": {},
   "outputs": [],
   "source": [
    "goal_over_xg_df=goal_over_xg_df.rename(columns={'o':'Goals Over xG'})"
   ]
  },
  {
   "cell_type": "code",
   "execution_count": null,
   "metadata": {},
   "outputs": [],
   "source": [
    "goal_over_xg_df.columns=goal_over_xg_df.columns.droplevel(0)"
   ]
  }
 ],
 "metadata": {
  "kernelspec": {
   "display_name": "Python 3",
   "language": "python",
   "name": "python3"
  },
  "language_info": {
   "codemirror_mode": {
    "name": "ipython",
    "version": 3
   },
   "file_extension": ".py",
   "mimetype": "text/x-python",
   "name": "python",
   "nbconvert_exporter": "python",
   "pygments_lexer": "ipython3",
   "version": "3.6.5"
  }
 },
 "nbformat": 4,
 "nbformat_minor": 2
}
